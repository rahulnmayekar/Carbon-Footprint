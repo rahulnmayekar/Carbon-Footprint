{
 "cells": [
  {
   "cell_type": "code",
   "execution_count": 1,
   "metadata": {},
   "outputs": [],
   "source": [
    "from flask import Flask, request, render_template, redirect, url_for, flash\n",
    "import pytest"
   ]
  },
  {
   "cell_type": "code",
   "execution_count": null,
   "metadata": {},
   "outputs": [
    {
     "name": "stdout",
     "output_type": "stream",
     "text": [
      " * Serving Flask app '__main__' (lazy loading)\n",
      " * Environment: production\n",
      "\u001b[31m   WARNING: This is a development server. Do not use it in a production deployment.\u001b[0m\n",
      "\u001b[2m   Use a production WSGI server instead.\u001b[0m\n",
      " * Debug mode: off\n"
     ]
    },
    {
     "name": "stderr",
     "output_type": "stream",
     "text": [
      " * Running on http://127.0.0.1:5000/ (Press CTRL+C to quit)\n",
      "127.0.0.1 - - [14/Dec/2021 12:23:30] \"GET / HTTP/1.1\" 200 -\n",
      "127.0.0.1 - - [14/Dec/2021 12:23:52] \"POST /contract HTTP/1.1\" 404 -\n"
     ]
    }
   ],
   "source": [
    "app = Flask(__name__, template_folder=\"template\")\n",
    "\n",
    "@app.route('/',methods=['POST','GET'])\n",
    "def static_page():\n",
    "    return render_template('index.html')\n",
    "\n",
    "@app.route(\"/calculateTotalWeight\", methods=['POST','GET'])\n",
    "def calculateTotalWeight():    \n",
    "    global vehicleWeight, cargoWeight, totalWeight\n",
    "    vehicleWeight = request.form['vehicleWeight']\n",
    "    cargoWeight = request.form['cargoWeight']\n",
    "    if vehicleWeight == '' or vehicleWeight=='Please enter vehicle weight first!':\n",
    "        vehicleWeight = 'Please enter weight!'\n",
    "    elif cargoWeight == '' or cargoWeight=='Please enter cargo weight first!':\n",
    "        cargoWeight = 'Please enter cargo weight first!'\n",
    "    else:\n",
    "        totalWeight = \"Total Weight is - \"+ str(float(cargoWeight) + float(vehicleWeight))\n",
    "    return render_template('index.html', cargoWeight=cargoWeight, vehicleWeight=vehicleWeight, totalWeight=totalWeight)\n",
    "\n",
    "@app.route(\"/contract\", methods=['POST','GET'])\n",
    "def contract():\n",
    "    global vehicleWeight, cargoWeight, totalWeight, vehcicleType, numberOfVehicle, avgDistance, totalEmission\n",
    "    vehicleType = request.form['vehicleType']\n",
    "    numberOfVehicle = request.form['numberOfVehicle']\n",
    "    avgDistance = request.form['avgDistance']\n",
    "    vehicleWeight = request.form['vehicleWeight']\n",
    "    cargoWeight = request.form['cargoWeight']\n",
    "    totalWeight = float(vehicleWeight)+float(cargoWeight)\n",
    "    if vehicleType == 'LCV':\n",
    "        totalEmission = 0.1431*float(totalWeight)*float(avgDistance)\n",
    "    elif vehicleType == 'HCV':\n",
    "        totalEmission = 0.307*float(totalWeight)*float(avgDistance)\n",
    "    totalWeight = \"Total Weight is - \"+ str(float(cargoWeight) + float(vehicleWeight))\n",
    "    totalEmission = \"Total Emission is - \"+ str(totalEmission)\n",
    "    return render_template('index.html', vehicleType=vehicleType, numberOfVehicle=numberOfVehicle, avgDistance=avgDistance, totalEmission= totalEmission, cargoWeight=cargoWeight, vehicleWeight=vehicleWeight, totalWeight=totalWeight)\n",
    "\n",
    "if __name__=='__main__':\n",
    "    app.run()"
   ]
  },
  {
   "cell_type": "code",
   "execution_count": null,
   "metadata": {},
   "outputs": [],
   "source": []
  }
 ],
 "metadata": {
  "kernelspec": {
   "display_name": "Python 3",
   "language": "python",
   "name": "python3"
  },
  "language_info": {
   "codemirror_mode": {
    "name": "ipython",
    "version": 3
   },
   "file_extension": ".py",
   "mimetype": "text/x-python",
   "name": "python",
   "nbconvert_exporter": "python",
   "pygments_lexer": "ipython3",
   "version": "3.8.10"
  }
 },
 "nbformat": 4,
 "nbformat_minor": 2
}
