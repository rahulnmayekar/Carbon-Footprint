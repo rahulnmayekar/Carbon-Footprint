{
 "cells": [
  {
   "cell_type": "code",
   "execution_count": null,
   "metadata": {},
   "outputs": [],
   "source": [
    "from flask import Flask, request, render_template, redirect, url_for, flash"
   ]
  },
  {
   "cell_type": "code",
   "execution_count": null,
   "metadata": {},
   "outputs": [],
   "source": [
    "print(vyper.__version__)"
   ]
  },
  {
   "cell_type": "code",
   "execution_count": null,
   "metadata": {},
   "outputs": [],
   "source": [
    "app = Flask(__name__, template_folder=\"template\")\n",
    "\n",
    "@app.route('/',methods=['POST','GET'])\n",
    "def static_page():\n",
    "    return render_template('index.html')\n",
    "\n",
    "@app.route(\"/calculateTotalWeight\", methods=['POST','GET'])\n",
    "def calculateTotalWeight():    \n",
    "    global vehicleWeight, cargoWeight, totalWeight\n",
    "    vehicleWeight = request.form['vehicleWeight']\n",
    "    cargoWeight = request.form['cargoWeight']\n",
    "    #totalWeight = ''\n",
    "    if vehicleWeight == '' or vehicleWeight=='Please enter vehicle weight first!':\n",
    "        vehicleWeight = 'Please enter weight!'\n",
    "    elif cargoWeight == '' or cargoWeight=='Please enter cargo weight first!':\n",
    "        cargoWeight = 'Please enter cargo weight first!'\n",
    "    else:\n",
    "        totalWeight = int(cargoWeight) + int(vehicleWeight)\n",
    "        print(cargoWeight,vehicleWeight, totalWeight)\n",
    "        return totalWeight\n",
    "    return render_template('index.html', cargoWeight=cargoWeight, vehicleWeight=vehicleWeight, totalWeight=totalWeight)\n",
    "\n",
    "@app.route(\"/contract\", methods=['POST','GET'])\n",
    "def contract():\n",
    "    global vehcicleType, numberOfVehicle, avgDistance, totalWeight\n",
    "    vehicleType = request.form['vehicleType']\n",
    "    numberOfVehicle = request.form['numberOfVehicle']\n",
    "    avgDistance = request.form['avgDistance']\n",
    "    totalWeight = calculateTotalWeight()\n",
    "    if vehicleType == 'lcv':\n",
    "        totalEmission = 0.1431*totalWeight*avgDistance\n",
    "        return totalEmission\n",
    "    elif vehicleType == 'hcv':\n",
    "        totalEmission = 0.307*totalWeight*avgDistance\n",
    "        return totalEmission\n",
    "    return render_template('index.html', vehicleType=vehicleType, numberOfVehicle=numberOfVehicle, totalWeight=totalWeight, avgDistance=avgDistance, totalEmission= totalEmission)\n",
    "\n",
    "if __name__=='__main__':\n",
    "    app.run()"
   ]
  },
  {
   "cell_type": "code",
   "execution_count": null,
   "metadata": {},
   "outputs": [],
   "source": []
  }
 ],
 "metadata": {
  "kernelspec": {
   "display_name": "Python 3",
   "language": "python",
   "name": "python3"
  },
  "language_info": {
   "codemirror_mode": {
    "name": "ipython",
    "version": 3
   },
   "file_extension": ".py",
   "mimetype": "text/x-python",
   "name": "python",
   "nbconvert_exporter": "python",
   "pygments_lexer": "ipython3",
   "version": "3.8.10"
  }
 },
 "nbformat": 4,
 "nbformat_minor": 2
}
